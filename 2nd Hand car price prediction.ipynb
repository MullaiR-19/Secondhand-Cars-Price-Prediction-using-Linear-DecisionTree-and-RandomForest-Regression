{
 "cells": [
  {
   "cell_type": "code",
   "execution_count": 16,
   "id": "63fd094e",
   "metadata": {},
   "outputs": [],
   "source": [
    "import pandas as pd\n",
    "import numpy as np\n",
    "from sklearn.metrics import confusion_matrix,classification_report,accuracy_score\n",
    "from sklearn.preprocessing import StandardScaler\n",
    "import matplotlib.pyplot as plt\n",
    "import seaborn as sns\n",
    "from sklearn.model_selection import train_test_split"
   ]
  },
  {
   "cell_type": "code",
   "execution_count": 17,
   "id": "4edf1ad4",
   "metadata": {},
   "outputs": [
    {
     "data": {
      "text/html": [
       "<div>\n",
       "<style scoped>\n",
       "    .dataframe tbody tr th:only-of-type {\n",
       "        vertical-align: middle;\n",
       "    }\n",
       "\n",
       "    .dataframe tbody tr th {\n",
       "        vertical-align: top;\n",
       "    }\n",
       "\n",
       "    .dataframe thead th {\n",
       "        text-align: right;\n",
       "    }\n",
       "</style>\n",
       "<table border=\"1\" class=\"dataframe\">\n",
       "  <thead>\n",
       "    <tr style=\"text-align: right;\">\n",
       "      <th></th>\n",
       "      <th>Unnamed: 0</th>\n",
       "      <th>brand</th>\n",
       "      <th>currency</th>\n",
       "      <th>description</th>\n",
       "      <th>fuel_type</th>\n",
       "      <th>item_condition</th>\n",
       "      <th>manufacturer</th>\n",
       "      <th>mileage_from_odometer</th>\n",
       "      <th>model_date</th>\n",
       "      <th>price</th>\n",
       "      <th>vehicle_engine</th>\n",
       "      <th>vehicle_transmission</th>\n",
       "    </tr>\n",
       "  </thead>\n",
       "  <tbody>\n",
       "    <tr>\n",
       "      <th>0</th>\n",
       "      <td>0</td>\n",
       "      <td>MG</td>\n",
       "      <td>PKR</td>\n",
       "      <td>MG HS 2021 for sale in Lahore</td>\n",
       "      <td>Petrol</td>\n",
       "      <td>used</td>\n",
       "      <td>MG</td>\n",
       "      <td>6,000 km</td>\n",
       "      <td>2021.0</td>\n",
       "      <td>6525000.0</td>\n",
       "      <td>1490cc</td>\n",
       "      <td>Automatic</td>\n",
       "    </tr>\n",
       "    <tr>\n",
       "      <th>1</th>\n",
       "      <td>1</td>\n",
       "      <td>Toyota</td>\n",
       "      <td>PKR</td>\n",
       "      <td>Toyota Aygo 2012 for sale in Islamabad</td>\n",
       "      <td>Petrol</td>\n",
       "      <td>used</td>\n",
       "      <td>Toyota</td>\n",
       "      <td>68,000 km</td>\n",
       "      <td>2012.0</td>\n",
       "      <td>1625000.0</td>\n",
       "      <td>1000cc</td>\n",
       "      <td>Manual</td>\n",
       "    </tr>\n",
       "    <tr>\n",
       "      <th>2</th>\n",
       "      <td>2</td>\n",
       "      <td>Honda</td>\n",
       "      <td>PKR</td>\n",
       "      <td>Honda City 2015 for sale in Lahore</td>\n",
       "      <td>Petrol</td>\n",
       "      <td>used</td>\n",
       "      <td>Honda</td>\n",
       "      <td>150,000 km</td>\n",
       "      <td>2015.0</td>\n",
       "      <td>2550000.0</td>\n",
       "      <td>1300cc</td>\n",
       "      <td>Automatic</td>\n",
       "    </tr>\n",
       "    <tr>\n",
       "      <th>3</th>\n",
       "      <td>3</td>\n",
       "      <td>KIA</td>\n",
       "      <td>PKR</td>\n",
       "      <td>KIA Sorento 2022 for sale in Sialkot</td>\n",
       "      <td>Petrol</td>\n",
       "      <td>used</td>\n",
       "      <td>KIA</td>\n",
       "      <td>18,000 km</td>\n",
       "      <td>2022.0</td>\n",
       "      <td>9000000.0</td>\n",
       "      <td>3500cc</td>\n",
       "      <td>Automatic</td>\n",
       "    </tr>\n",
       "    <tr>\n",
       "      <th>4</th>\n",
       "      <td>4</td>\n",
       "      <td>Toyota</td>\n",
       "      <td>PKR</td>\n",
       "      <td>Toyota Corolla 2015 for sale in Rawalpindi</td>\n",
       "      <td>Petrol</td>\n",
       "      <td>used</td>\n",
       "      <td>Toyota</td>\n",
       "      <td>110,000 km</td>\n",
       "      <td>2015.0</td>\n",
       "      <td>3350000.0</td>\n",
       "      <td>1300cc</td>\n",
       "      <td>Automatic</td>\n",
       "    </tr>\n",
       "  </tbody>\n",
       "</table>\n",
       "</div>"
      ],
      "text/plain": [
       "   Unnamed: 0   brand currency                                 description  \\\n",
       "0           0      MG      PKR               MG HS 2021 for sale in Lahore   \n",
       "1           1  Toyota      PKR      Toyota Aygo 2012 for sale in Islamabad   \n",
       "2           2   Honda      PKR          Honda City 2015 for sale in Lahore   \n",
       "3           3     KIA      PKR        KIA Sorento 2022 for sale in Sialkot   \n",
       "4           4  Toyota      PKR  Toyota Corolla 2015 for sale in Rawalpindi   \n",
       "\n",
       "  fuel_type item_condition manufacturer mileage_from_odometer  model_date  \\\n",
       "0    Petrol           used           MG              6,000 km      2021.0   \n",
       "1    Petrol           used       Toyota             68,000 km      2012.0   \n",
       "2    Petrol           used        Honda            150,000 km      2015.0   \n",
       "3    Petrol           used          KIA             18,000 km      2022.0   \n",
       "4    Petrol           used       Toyota            110,000 km      2015.0   \n",
       "\n",
       "       price vehicle_engine vehicle_transmission  \n",
       "0  6525000.0         1490cc            Automatic  \n",
       "1  1625000.0         1000cc               Manual  \n",
       "2  2550000.0         1300cc            Automatic  \n",
       "3  9000000.0         3500cc            Automatic  \n",
       "4  3350000.0         1300cc            Automatic  "
      ]
     },
     "execution_count": 17,
     "metadata": {},
     "output_type": "execute_result"
    }
   ],
   "source": [
    "car_sales_data = pd.read_csv(r\"Used Car dataset\\used_car_dataset.csv\")\n",
    "car_sales_data.head()"
   ]
  },
  {
   "cell_type": "code",
   "execution_count": 18,
   "id": "15318f7f",
   "metadata": {},
   "outputs": [
    {
     "data": {
      "text/html": [
       "<div>\n",
       "<style scoped>\n",
       "    .dataframe tbody tr th:only-of-type {\n",
       "        vertical-align: middle;\n",
       "    }\n",
       "\n",
       "    .dataframe tbody tr th {\n",
       "        vertical-align: top;\n",
       "    }\n",
       "\n",
       "    .dataframe thead th {\n",
       "        text-align: right;\n",
       "    }\n",
       "</style>\n",
       "<table border=\"1\" class=\"dataframe\">\n",
       "  <thead>\n",
       "    <tr style=\"text-align: right;\">\n",
       "      <th></th>\n",
       "      <th>brand</th>\n",
       "      <th>description</th>\n",
       "      <th>fuel_type</th>\n",
       "      <th>mileage_from_odometer</th>\n",
       "      <th>model_date</th>\n",
       "      <th>price</th>\n",
       "      <th>vehicle_engine</th>\n",
       "      <th>vehicle_transmission</th>\n",
       "    </tr>\n",
       "  </thead>\n",
       "  <tbody>\n",
       "    <tr>\n",
       "      <th>0</th>\n",
       "      <td>MG</td>\n",
       "      <td>MG HS 2021 for sale in Lahore</td>\n",
       "      <td>Petrol</td>\n",
       "      <td>6,000 km</td>\n",
       "      <td>2021.0</td>\n",
       "      <td>6525000.0</td>\n",
       "      <td>1490cc</td>\n",
       "      <td>Automatic</td>\n",
       "    </tr>\n",
       "    <tr>\n",
       "      <th>1</th>\n",
       "      <td>Toyota</td>\n",
       "      <td>Toyota Aygo 2012 for sale in Islamabad</td>\n",
       "      <td>Petrol</td>\n",
       "      <td>68,000 km</td>\n",
       "      <td>2012.0</td>\n",
       "      <td>1625000.0</td>\n",
       "      <td>1000cc</td>\n",
       "      <td>Manual</td>\n",
       "    </tr>\n",
       "    <tr>\n",
       "      <th>2</th>\n",
       "      <td>Honda</td>\n",
       "      <td>Honda City 2015 for sale in Lahore</td>\n",
       "      <td>Petrol</td>\n",
       "      <td>150,000 km</td>\n",
       "      <td>2015.0</td>\n",
       "      <td>2550000.0</td>\n",
       "      <td>1300cc</td>\n",
       "      <td>Automatic</td>\n",
       "    </tr>\n",
       "    <tr>\n",
       "      <th>3</th>\n",
       "      <td>KIA</td>\n",
       "      <td>KIA Sorento 2022 for sale in Sialkot</td>\n",
       "      <td>Petrol</td>\n",
       "      <td>18,000 km</td>\n",
       "      <td>2022.0</td>\n",
       "      <td>9000000.0</td>\n",
       "      <td>3500cc</td>\n",
       "      <td>Automatic</td>\n",
       "    </tr>\n",
       "    <tr>\n",
       "      <th>4</th>\n",
       "      <td>Toyota</td>\n",
       "      <td>Toyota Corolla 2015 for sale in Rawalpindi</td>\n",
       "      <td>Petrol</td>\n",
       "      <td>110,000 km</td>\n",
       "      <td>2015.0</td>\n",
       "      <td>3350000.0</td>\n",
       "      <td>1300cc</td>\n",
       "      <td>Automatic</td>\n",
       "    </tr>\n",
       "  </tbody>\n",
       "</table>\n",
       "</div>"
      ],
      "text/plain": [
       "    brand                                 description fuel_type  \\\n",
       "0      MG               MG HS 2021 for sale in Lahore    Petrol   \n",
       "1  Toyota      Toyota Aygo 2012 for sale in Islamabad    Petrol   \n",
       "2   Honda          Honda City 2015 for sale in Lahore    Petrol   \n",
       "3     KIA        KIA Sorento 2022 for sale in Sialkot    Petrol   \n",
       "4  Toyota  Toyota Corolla 2015 for sale in Rawalpindi    Petrol   \n",
       "\n",
       "  mileage_from_odometer  model_date      price vehicle_engine  \\\n",
       "0              6,000 km      2021.0  6525000.0         1490cc   \n",
       "1             68,000 km      2012.0  1625000.0         1000cc   \n",
       "2            150,000 km      2015.0  2550000.0         1300cc   \n",
       "3             18,000 km      2022.0  9000000.0         3500cc   \n",
       "4            110,000 km      2015.0  3350000.0         1300cc   \n",
       "\n",
       "  vehicle_transmission  \n",
       "0            Automatic  \n",
       "1               Manual  \n",
       "2            Automatic  \n",
       "3            Automatic  \n",
       "4            Automatic  "
      ]
     },
     "execution_count": 18,
     "metadata": {},
     "output_type": "execute_result"
    }
   ],
   "source": [
    "car_sales_data = car_sales_data.drop(['currency','Unnamed: 0','item_condition','manufacturer'],axis=1)\n",
    "car_sales_data.dropna()\n",
    "car_sales_data = car_sales_data.iloc[:30000,:]\n",
    "car_sales_data.head()"
   ]
  },
  {
   "cell_type": "code",
   "execution_count": 19,
   "id": "db640e29",
   "metadata": {},
   "outputs": [],
   "source": [
    "#Replacting Sting to numerics\n",
    "brand_list = car_sales_data['brand'].unique()\n",
    "brand_dict = {brand_list[i]:i for i in range(len(brand_list))}\n",
    "car_sales_data['brand']=car_sales_data['brand'].replace(brand_dict)\n",
    "\n",
    "description_list = car_sales_data['description'].unique()\n",
    "description_dict = {description_list[i]:i for i in range(len(description_list))}\n",
    "car_sales_data['description'] = car_sales_data['description'].replace(description_dict)\n",
    "\n",
    "fuel_type_list = car_sales_data['fuel_type'].unique()\n",
    "fuel_type_dict = {fuel_type_list[i]:i for i in range(len(fuel_type_list))}\n",
    "car_sales_data['fuel_type'] = car_sales_data['fuel_type'].replace(fuel_type_dict)\n",
    "\n",
    "car_sales_data['vehicle_transmission'] = car_sales_data['vehicle_transmission'].replace({'Automatic':0,'Manual':1})\n",
    "\n"
   ]
  },
  {
   "cell_type": "code",
   "execution_count": 20,
   "id": "770af6a9",
   "metadata": {},
   "outputs": [],
   "source": [
    "car_sales_data['mileage_from_odometer'] = car_sales_data['mileage_from_odometer'].map(lambda x: str(x)[:-3])\n",
    "car_sales_data['mileage_from_odometer'] = car_sales_data['mileage_from_odometer'].astype(str)\n",
    "car_sales_data['mileage_from_odometer']=car_sales_data['mileage_from_odometer'].str.replace(',','')\n",
    "car_sales_data['mileage_from_odometer'] = car_sales_data['mileage_from_odometer'].astype(int)\n",
    "\n",
    "car_sales_data['vehicle_engine'] = car_sales_data['vehicle_engine'].map(lambda x: str(x)[:-2])\n",
    "car_sales_data['vehicle_engine'] = car_sales_data['vehicle_engine'].astype(str)\n",
    "car_sales_data['vehicle_engine'] = pd.to_numeric(car_sales_data['vehicle_engine'],errors='ignore')\n",
    "\n",
    "car_sales_data['model_date'] = car_sales_data['model_date'].astype(int)"
   ]
  },
  {
   "cell_type": "code",
   "execution_count": 21,
   "id": "33a4476a",
   "metadata": {},
   "outputs": [
    {
     "name": "stdout",
     "output_type": "stream",
     "text": [
      "<class 'pandas.core.frame.DataFrame'>\n",
      "RangeIndex: 30000 entries, 0 to 29999\n",
      "Data columns (total 8 columns):\n",
      " #   Column                 Non-Null Count  Dtype  \n",
      "---  ------                 --------------  -----  \n",
      " 0   brand                  30000 non-null  int64  \n",
      " 1   description            30000 non-null  int64  \n",
      " 2   fuel_type              30000 non-null  int64  \n",
      " 3   mileage_from_odometer  30000 non-null  int32  \n",
      " 4   model_date             30000 non-null  int32  \n",
      " 5   price                  30000 non-null  float64\n",
      " 6   vehicle_engine         29956 non-null  float64\n",
      " 7   vehicle_transmission   30000 non-null  int64  \n",
      "dtypes: float64(2), int32(2), int64(4)\n",
      "memory usage: 1.6 MB\n"
     ]
    }
   ],
   "source": [
    "car_sales_data.head(10)\n",
    "car_sales_data.info()"
   ]
  },
  {
   "cell_type": "code",
   "execution_count": null,
   "id": "c3cf418a",
   "metadata": {},
   "outputs": [],
   "source": []
  },
  {
   "cell_type": "code",
   "execution_count": 22,
   "id": "f6543d0b",
   "metadata": {},
   "outputs": [
    {
     "data": {
      "text/html": [
       "<div>\n",
       "<style scoped>\n",
       "    .dataframe tbody tr th:only-of-type {\n",
       "        vertical-align: middle;\n",
       "    }\n",
       "\n",
       "    .dataframe tbody tr th {\n",
       "        vertical-align: top;\n",
       "    }\n",
       "\n",
       "    .dataframe thead th {\n",
       "        text-align: right;\n",
       "    }\n",
       "</style>\n",
       "<table border=\"1\" class=\"dataframe\">\n",
       "  <thead>\n",
       "    <tr style=\"text-align: right;\">\n",
       "      <th></th>\n",
       "      <th>brand</th>\n",
       "      <th>description</th>\n",
       "      <th>fuel_type</th>\n",
       "      <th>mileage_from_odometer</th>\n",
       "      <th>model_date</th>\n",
       "      <th>vehicle_engine</th>\n",
       "      <th>vehicle_transmission</th>\n",
       "    </tr>\n",
       "  </thead>\n",
       "  <tbody>\n",
       "    <tr>\n",
       "      <th>25315</th>\n",
       "      <td>1</td>\n",
       "      <td>2183</td>\n",
       "      <td>0</td>\n",
       "      <td>21000</td>\n",
       "      <td>2021</td>\n",
       "      <td>1600.0</td>\n",
       "      <td>0</td>\n",
       "    </tr>\n",
       "    <tr>\n",
       "      <th>16541</th>\n",
       "      <td>2</td>\n",
       "      <td>2212</td>\n",
       "      <td>1</td>\n",
       "      <td>68000</td>\n",
       "      <td>2015</td>\n",
       "      <td>1500.0</td>\n",
       "      <td>0</td>\n",
       "    </tr>\n",
       "    <tr>\n",
       "      <th>25335</th>\n",
       "      <td>5</td>\n",
       "      <td>1004</td>\n",
       "      <td>0</td>\n",
       "      <td>212000</td>\n",
       "      <td>2006</td>\n",
       "      <td>660.0</td>\n",
       "      <td>0</td>\n",
       "    </tr>\n",
       "    <tr>\n",
       "      <th>23163</th>\n",
       "      <td>2</td>\n",
       "      <td>3872</td>\n",
       "      <td>0</td>\n",
       "      <td>150000</td>\n",
       "      <td>1998</td>\n",
       "      <td>1500.0</td>\n",
       "      <td>0</td>\n",
       "    </tr>\n",
       "    <tr>\n",
       "      <th>28362</th>\n",
       "      <td>3</td>\n",
       "      <td>479</td>\n",
       "      <td>0</td>\n",
       "      <td>5000</td>\n",
       "      <td>2021</td>\n",
       "      <td>2000.0</td>\n",
       "      <td>0</td>\n",
       "    </tr>\n",
       "    <tr>\n",
       "      <th>...</th>\n",
       "      <td>...</td>\n",
       "      <td>...</td>\n",
       "      <td>...</td>\n",
       "      <td>...</td>\n",
       "      <td>...</td>\n",
       "      <td>...</td>\n",
       "      <td>...</td>\n",
       "    </tr>\n",
       "    <tr>\n",
       "      <th>15682</th>\n",
       "      <td>8</td>\n",
       "      <td>5283</td>\n",
       "      <td>0</td>\n",
       "      <td>10000</td>\n",
       "      <td>2008</td>\n",
       "      <td>800.0</td>\n",
       "      <td>0</td>\n",
       "    </tr>\n",
       "    <tr>\n",
       "      <th>22676</th>\n",
       "      <td>2</td>\n",
       "      <td>8430</td>\n",
       "      <td>0</td>\n",
       "      <td>52000</td>\n",
       "      <td>2016</td>\n",
       "      <td>1500.0</td>\n",
       "      <td>0</td>\n",
       "    </tr>\n",
       "    <tr>\n",
       "      <th>10140</th>\n",
       "      <td>2</td>\n",
       "      <td>1446</td>\n",
       "      <td>0</td>\n",
       "      <td>98000</td>\n",
       "      <td>2015</td>\n",
       "      <td>1500.0</td>\n",
       "      <td>0</td>\n",
       "    </tr>\n",
       "    <tr>\n",
       "      <th>5612</th>\n",
       "      <td>5</td>\n",
       "      <td>1794</td>\n",
       "      <td>0</td>\n",
       "      <td>41000</td>\n",
       "      <td>2019</td>\n",
       "      <td>1300.0</td>\n",
       "      <td>0</td>\n",
       "    </tr>\n",
       "    <tr>\n",
       "      <th>14030</th>\n",
       "      <td>5</td>\n",
       "      <td>5666</td>\n",
       "      <td>0</td>\n",
       "      <td>128000</td>\n",
       "      <td>2000</td>\n",
       "      <td>1000.0</td>\n",
       "      <td>1</td>\n",
       "    </tr>\n",
       "  </tbody>\n",
       "</table>\n",
       "<p>22467 rows × 7 columns</p>\n",
       "</div>"
      ],
      "text/plain": [
       "       brand  description  fuel_type  mileage_from_odometer  model_date  \\\n",
       "25315      1         2183          0                  21000        2021   \n",
       "16541      2         2212          1                  68000        2015   \n",
       "25335      5         1004          0                 212000        2006   \n",
       "23163      2         3872          0                 150000        1998   \n",
       "28362      3          479          0                   5000        2021   \n",
       "...      ...          ...        ...                    ...         ...   \n",
       "15682      8         5283          0                  10000        2008   \n",
       "22676      2         8430          0                  52000        2016   \n",
       "10140      2         1446          0                  98000        2015   \n",
       "5612       5         1794          0                  41000        2019   \n",
       "14030      5         5666          0                 128000        2000   \n",
       "\n",
       "       vehicle_engine  vehicle_transmission  \n",
       "25315          1600.0                     0  \n",
       "16541          1500.0                     0  \n",
       "25335           660.0                     0  \n",
       "23163          1500.0                     0  \n",
       "28362          2000.0                     0  \n",
       "...               ...                   ...  \n",
       "15682           800.0                     0  \n",
       "22676          1500.0                     0  \n",
       "10140          1500.0                     0  \n",
       "5612           1300.0                     0  \n",
       "14030          1000.0                     1  \n",
       "\n",
       "[22467 rows x 7 columns]"
      ]
     },
     "execution_count": 22,
     "metadata": {},
     "output_type": "execute_result"
    }
   ],
   "source": [
    "#spiitting model\n",
    "car_sales_data = car_sales_data.dropna()\n",
    "X = car_sales_data.drop('price',axis=1)\n",
    "Y = car_sales_data['price']\n",
    "xTrain,xTest,yTrain,yTest = train_test_split(X,Y,random_state=50,test_size=1/4)\n",
    "xTrain"
   ]
  },
  {
   "cell_type": "code",
   "execution_count": 23,
   "id": "304b6676",
   "metadata": {},
   "outputs": [],
   "source": [
    "#Using Linear Regression\n",
    "from sklearn.linear_model import LinearRegression\n",
    "linear_model = LinearRegression()"
   ]
  },
  {
   "cell_type": "code",
   "execution_count": 24,
   "id": "34449097",
   "metadata": {},
   "outputs": [
    {
     "data": {
      "text/html": [
       "<style>#sk-container-id-1 {color: black;background-color: white;}#sk-container-id-1 pre{padding: 0;}#sk-container-id-1 div.sk-toggleable {background-color: white;}#sk-container-id-1 label.sk-toggleable__label {cursor: pointer;display: block;width: 100%;margin-bottom: 0;padding: 0.3em;box-sizing: border-box;text-align: center;}#sk-container-id-1 label.sk-toggleable__label-arrow:before {content: \"▸\";float: left;margin-right: 0.25em;color: #696969;}#sk-container-id-1 label.sk-toggleable__label-arrow:hover:before {color: black;}#sk-container-id-1 div.sk-estimator:hover label.sk-toggleable__label-arrow:before {color: black;}#sk-container-id-1 div.sk-toggleable__content {max-height: 0;max-width: 0;overflow: hidden;text-align: left;background-color: #f0f8ff;}#sk-container-id-1 div.sk-toggleable__content pre {margin: 0.2em;color: black;border-radius: 0.25em;background-color: #f0f8ff;}#sk-container-id-1 input.sk-toggleable__control:checked~div.sk-toggleable__content {max-height: 200px;max-width: 100%;overflow: auto;}#sk-container-id-1 input.sk-toggleable__control:checked~label.sk-toggleable__label-arrow:before {content: \"▾\";}#sk-container-id-1 div.sk-estimator input.sk-toggleable__control:checked~label.sk-toggleable__label {background-color: #d4ebff;}#sk-container-id-1 div.sk-label input.sk-toggleable__control:checked~label.sk-toggleable__label {background-color: #d4ebff;}#sk-container-id-1 input.sk-hidden--visually {border: 0;clip: rect(1px 1px 1px 1px);clip: rect(1px, 1px, 1px, 1px);height: 1px;margin: -1px;overflow: hidden;padding: 0;position: absolute;width: 1px;}#sk-container-id-1 div.sk-estimator {font-family: monospace;background-color: #f0f8ff;border: 1px dotted black;border-radius: 0.25em;box-sizing: border-box;margin-bottom: 0.5em;}#sk-container-id-1 div.sk-estimator:hover {background-color: #d4ebff;}#sk-container-id-1 div.sk-parallel-item::after {content: \"\";width: 100%;border-bottom: 1px solid gray;flex-grow: 1;}#sk-container-id-1 div.sk-label:hover label.sk-toggleable__label {background-color: #d4ebff;}#sk-container-id-1 div.sk-serial::before {content: \"\";position: absolute;border-left: 1px solid gray;box-sizing: border-box;top: 0;bottom: 0;left: 50%;z-index: 0;}#sk-container-id-1 div.sk-serial {display: flex;flex-direction: column;align-items: center;background-color: white;padding-right: 0.2em;padding-left: 0.2em;position: relative;}#sk-container-id-1 div.sk-item {position: relative;z-index: 1;}#sk-container-id-1 div.sk-parallel {display: flex;align-items: stretch;justify-content: center;background-color: white;position: relative;}#sk-container-id-1 div.sk-item::before, #sk-container-id-1 div.sk-parallel-item::before {content: \"\";position: absolute;border-left: 1px solid gray;box-sizing: border-box;top: 0;bottom: 0;left: 50%;z-index: -1;}#sk-container-id-1 div.sk-parallel-item {display: flex;flex-direction: column;z-index: 1;position: relative;background-color: white;}#sk-container-id-1 div.sk-parallel-item:first-child::after {align-self: flex-end;width: 50%;}#sk-container-id-1 div.sk-parallel-item:last-child::after {align-self: flex-start;width: 50%;}#sk-container-id-1 div.sk-parallel-item:only-child::after {width: 0;}#sk-container-id-1 div.sk-dashed-wrapped {border: 1px dashed gray;margin: 0 0.4em 0.5em 0.4em;box-sizing: border-box;padding-bottom: 0.4em;background-color: white;}#sk-container-id-1 div.sk-label label {font-family: monospace;font-weight: bold;display: inline-block;line-height: 1.2em;}#sk-container-id-1 div.sk-label-container {text-align: center;}#sk-container-id-1 div.sk-container {/* jupyter's `normalize.less` sets `[hidden] { display: none; }` but bootstrap.min.css set `[hidden] { display: none !important; }` so we also need the `!important` here to be able to override the default hidden behavior on the sphinx rendered scikit-learn.org. See: https://github.com/scikit-learn/scikit-learn/issues/21755 */display: inline-block !important;position: relative;}#sk-container-id-1 div.sk-text-repr-fallback {display: none;}</style><div id=\"sk-container-id-1\" class=\"sk-top-container\"><div class=\"sk-text-repr-fallback\"><pre>LinearRegression()</pre><b>In a Jupyter environment, please rerun this cell to show the HTML representation or trust the notebook. <br />On GitHub, the HTML representation is unable to render, please try loading this page with nbviewer.org.</b></div><div class=\"sk-container\" hidden><div class=\"sk-item\"><div class=\"sk-estimator sk-toggleable\"><input class=\"sk-toggleable__control sk-hidden--visually\" id=\"sk-estimator-id-1\" type=\"checkbox\" checked><label for=\"sk-estimator-id-1\" class=\"sk-toggleable__label sk-toggleable__label-arrow\">LinearRegression</label><div class=\"sk-toggleable__content\"><pre>LinearRegression()</pre></div></div></div></div></div>"
      ],
      "text/plain": [
       "LinearRegression()"
      ]
     },
     "execution_count": 24,
     "metadata": {},
     "output_type": "execute_result"
    }
   ],
   "source": [
    "linear_model.fit(xTrain,yTrain)"
   ]
  },
  {
   "cell_type": "code",
   "execution_count": 34,
   "id": "af8b05d8",
   "metadata": {},
   "outputs": [
    {
     "name": "stdout",
     "output_type": "stream",
     "text": [
      "Linear Model Traning Score: 0.43429722009456584\n",
      "Linear Model Test Score: 0.45424108964857257\n"
     ]
    }
   ],
   "source": [
    "print('Linear Model Traning Score:',linear_model.score(xTrain,yTrain))\n",
    "print('Linear Model Test Score:',linear_model.score(xTest,yTest))"
   ]
  },
  {
   "cell_type": "code",
   "execution_count": 66,
   "id": "41d05604",
   "metadata": {},
   "outputs": [
    {
     "data": {
      "text/plain": [
       "<AxesSubplot:xlabel='brand'>"
      ]
     },
     "execution_count": 66,
     "metadata": {},
     "output_type": "execute_result"
    },
    {
     "data": {
      "image/png": "[encoded data removed]",
      "text/plain": [
       "<Figure size 1080x360 with 1 Axes>"
      ]
     },
     "metadata": {
      "needs_background": "light"
     },
     "output_type": "display_data"
    }
   ],
   "source": [
    "# polotting datas\n",
    "#Linearregression\n",
    "fig,axs = plt.subplots(figsize=(15,5))\n",
    "sns.regplot(data=car_sales_data,x=xTest.iloc[:,0],y=linear_model.predict(xTest))"
   ]
  },
  {
   "cell_type": "code",
   "execution_count": 26,
   "id": "e727b769",
   "metadata": {},
   "outputs": [],
   "source": [
    "#using Decission Tree \n",
    "from sklearn.tree import DecisionTreeRegressor\n",
    "tree_model = DecisionTreeRegressor(random_state=0)"
   ]
  },
  {
   "cell_type": "code",
   "execution_count": 27,
   "id": "58d74b72",
   "metadata": {},
   "outputs": [
    {
     "data": {
      "text/html": [
       "<style>#sk-container-id-2 {color: black;background-color: white;}#sk-container-id-2 pre{padding: 0;}#sk-container-id-2 div.sk-toggleable {background-color: white;}#sk-container-id-2 label.sk-toggleable__label {cursor: pointer;display: block;width: 100%;margin-bottom: 0;padding: 0.3em;box-sizing: border-box;text-align: center;}#sk-container-id-2 label.sk-toggleable__label-arrow:before {content: \"▸\";float: left;margin-right: 0.25em;color: #696969;}#sk-container-id-2 label.sk-toggleable__label-arrow:hover:before {color: black;}#sk-container-id-2 div.sk-estimator:hover label.sk-toggleable__label-arrow:before {color: black;}#sk-container-id-2 div.sk-toggleable__content {max-height: 0;max-width: 0;overflow: hidden;text-align: left;background-color: #f0f8ff;}#sk-container-id-2 div.sk-toggleable__content pre {margin: 0.2em;color: black;border-radius: 0.25em;background-color: #f0f8ff;}#sk-container-id-2 input.sk-toggleable__control:checked~div.sk-toggleable__content {max-height: 200px;max-width: 100%;overflow: auto;}#sk-container-id-2 input.sk-toggleable__control:checked~label.sk-toggleable__label-arrow:before {content: \"▾\";}#sk-container-id-2 div.sk-estimator input.sk-toggleable__control:checked~label.sk-toggleable__label {background-color: #d4ebff;}#sk-container-id-2 div.sk-label input.sk-toggleable__control:checked~label.sk-toggleable__label {background-color: #d4ebff;}#sk-container-id-2 input.sk-hidden--visually {border: 0;clip: rect(1px 1px 1px 1px);clip: rect(1px, 1px, 1px, 1px);height: 1px;margin: -1px;overflow: hidden;padding: 0;position: absolute;width: 1px;}#sk-container-id-2 div.sk-estimator {font-family: monospace;background-color: #f0f8ff;border: 1px dotted black;border-radius: 0.25em;box-sizing: border-box;margin-bottom: 0.5em;}#sk-container-id-2 div.sk-estimator:hover {background-color: #d4ebff;}#sk-container-id-2 div.sk-parallel-item::after {content: \"\";width: 100%;border-bottom: 1px solid gray;flex-grow: 1;}#sk-container-id-2 div.sk-label:hover label.sk-toggleable__label {background-color: #d4ebff;}#sk-container-id-2 div.sk-serial::before {content: \"\";position: absolute;border-left: 1px solid gray;box-sizing: border-box;top: 0;bottom: 0;left: 50%;z-index: 0;}#sk-container-id-2 div.sk-serial {display: flex;flex-direction: column;align-items: center;background-color: white;padding-right: 0.2em;padding-left: 0.2em;position: relative;}#sk-container-id-2 div.sk-item {position: relative;z-index: 1;}#sk-container-id-2 div.sk-parallel {display: flex;align-items: stretch;justify-content: center;background-color: white;position: relative;}#sk-container-id-2 div.sk-item::before, #sk-container-id-2 div.sk-parallel-item::before {content: \"\";position: absolute;border-left: 1px solid gray;box-sizing: border-box;top: 0;bottom: 0;left: 50%;z-index: -1;}#sk-container-id-2 div.sk-parallel-item {display: flex;flex-direction: column;z-index: 1;position: relative;background-color: white;}#sk-container-id-2 div.sk-parallel-item:first-child::after {align-self: flex-end;width: 50%;}#sk-container-id-2 div.sk-parallel-item:last-child::after {align-self: flex-start;width: 50%;}#sk-container-id-2 div.sk-parallel-item:only-child::after {width: 0;}#sk-container-id-2 div.sk-dashed-wrapped {border: 1px dashed gray;margin: 0 0.4em 0.5em 0.4em;box-sizing: border-box;padding-bottom: 0.4em;background-color: white;}#sk-container-id-2 div.sk-label label {font-family: monospace;font-weight: bold;display: inline-block;line-height: 1.2em;}#sk-container-id-2 div.sk-label-container {text-align: center;}#sk-container-id-2 div.sk-container {/* jupyter's `normalize.less` sets `[hidden] { display: none; }` but bootstrap.min.css set `[hidden] { display: none !important; }` so we also need the `!important` here to be able to override the default hidden behavior on the sphinx rendered scikit-learn.org. See: https://github.com/scikit-learn/scikit-learn/issues/21755 */display: inline-block !important;position: relative;}#sk-container-id-2 div.sk-text-repr-fallback {display: none;}</style><div id=\"sk-container-id-2\" class=\"sk-top-container\"><div class=\"sk-text-repr-fallback\"><pre>DecisionTreeRegressor(random_state=0)</pre><b>In a Jupyter environment, please rerun this cell to show the HTML representation or trust the notebook. <br />On GitHub, the HTML representation is unable to render, please try loading this page with nbviewer.org.</b></div><div class=\"sk-container\" hidden><div class=\"sk-item\"><div class=\"sk-estimator sk-toggleable\"><input class=\"sk-toggleable__control sk-hidden--visually\" id=\"sk-estimator-id-2\" type=\"checkbox\" checked><label for=\"sk-estimator-id-2\" class=\"sk-toggleable__label sk-toggleable__label-arrow\">DecisionTreeRegressor</label><div class=\"sk-toggleable__content\"><pre>DecisionTreeRegressor(random_state=0)</pre></div></div></div></div></div>"
      ],
      "text/plain": [
       "DecisionTreeRegressor(random_state=0)"
      ]
     },
     "execution_count": 27,
     "metadata": {},
     "output_type": "execute_result"
    }
   ],
   "source": [
    "tree_model.fit(xTrain,yTrain)"
   ]
  },
  {
   "cell_type": "code",
   "execution_count": 39,
   "id": "80f16e18",
   "metadata": {},
   "outputs": [
    {
     "name": "stdout",
     "output_type": "stream",
     "text": [
      "DecisionTreeRegressor Model Traning Score: 99.98794396312027\n",
      "DecisionTreeRegressor Model Test Score: 89.40432352316057\n"
     ]
    }
   ],
   "source": [
    "print('DecisionTreeRegressor Model Traning Score:',tree_model.score(xTrain,yTrain)*100)\n",
    "print('DecisionTreeRegressor Model Test Score:',tree_model.score(xTest,yTest)*100)"
   ]
  },
  {
   "cell_type": "code",
   "execution_count": 68,
   "id": "6e0f5d0d",
   "metadata": {},
   "outputs": [
    {
     "data": {
      "text/plain": [
       "<AxesSubplot:xlabel='brand'>"
      ]
     },
     "execution_count": 68,
     "metadata": {},
     "output_type": "execute_result"
    },
    {
     "data": {
      "image/png": "[encoded data removed]",
      "text/plain": [
       "<Figure size 1080x360 with 1 Axes>"
      ]
     },
     "metadata": {
      "needs_background": "light"
     },
     "output_type": "display_data"
    }
   ],
   "source": [
    "#decission tree regressor\n",
    "fig,axs = plt.subplots(figsize=(15,5))\n",
    "tree_y_predict = tree_model.predict(xTest)\n",
    "sns.regplot(data=car_sales_data,x=xTest.iloc[:,0],y=tree_y_predict,color='g')"
   ]
  },
  {
   "cell_type": "code",
   "execution_count": 29,
   "id": "9dadb3be",
   "metadata": {},
   "outputs": [],
   "source": [
    "# using random forest regressor\n",
    "from sklearn.ensemble import RandomForestRegressor\n",
    "forest = RandomForestRegressor(n_estimators=300,random_state=0)"
   ]
  },
  {
   "cell_type": "code",
   "execution_count": 30,
   "id": "1aed5cbf",
   "metadata": {},
   "outputs": [
    {
     "data": {
      "text/html": [
       "<style>#sk-container-id-3 {color: black;background-color: white;}#sk-container-id-3 pre{padding: 0;}#sk-container-id-3 div.sk-toggleable {background-color: white;}#sk-container-id-3 label.sk-toggleable__label {cursor: pointer;display: block;width: 100%;margin-bottom: 0;padding: 0.3em;box-sizing: border-box;text-align: center;}#sk-container-id-3 label.sk-toggleable__label-arrow:before {content: \"▸\";float: left;margin-right: 0.25em;color: #696969;}#sk-container-id-3 label.sk-toggleable__label-arrow:hover:before {color: black;}#sk-container-id-3 div.sk-estimator:hover label.sk-toggleable__label-arrow:before {color: black;}#sk-container-id-3 div.sk-toggleable__content {max-height: 0;max-width: 0;overflow: hidden;text-align: left;background-color: #f0f8ff;}#sk-container-id-3 div.sk-toggleable__content pre {margin: 0.2em;color: black;border-radius: 0.25em;background-color: #f0f8ff;}#sk-container-id-3 input.sk-toggleable__control:checked~div.sk-toggleable__content {max-height: 200px;max-width: 100%;overflow: auto;}#sk-container-id-3 input.sk-toggleable__control:checked~label.sk-toggleable__label-arrow:before {content: \"▾\";}#sk-container-id-3 div.sk-estimator input.sk-toggleable__control:checked~label.sk-toggleable__label {background-color: #d4ebff;}#sk-container-id-3 div.sk-label input.sk-toggleable__control:checked~label.sk-toggleable__label {background-color: #d4ebff;}#sk-container-id-3 input.sk-hidden--visually {border: 0;clip: rect(1px 1px 1px 1px);clip: rect(1px, 1px, 1px, 1px);height: 1px;margin: -1px;overflow: hidden;padding: 0;position: absolute;width: 1px;}#sk-container-id-3 div.sk-estimator {font-family: monospace;background-color: #f0f8ff;border: 1px dotted black;border-radius: 0.25em;box-sizing: border-box;margin-bottom: 0.5em;}#sk-container-id-3 div.sk-estimator:hover {background-color: #d4ebff;}#sk-container-id-3 div.sk-parallel-item::after {content: \"\";width: 100%;border-bottom: 1px solid gray;flex-grow: 1;}#sk-container-id-3 div.sk-label:hover label.sk-toggleable__label {background-color: #d4ebff;}#sk-container-id-3 div.sk-serial::before {content: \"\";position: absolute;border-left: 1px solid gray;box-sizing: border-box;top: 0;bottom: 0;left: 50%;z-index: 0;}#sk-container-id-3 div.sk-serial {display: flex;flex-direction: column;align-items: center;background-color: white;padding-right: 0.2em;padding-left: 0.2em;position: relative;}#sk-container-id-3 div.sk-item {position: relative;z-index: 1;}#sk-container-id-3 div.sk-parallel {display: flex;align-items: stretch;justify-content: center;background-color: white;position: relative;}#sk-container-id-3 div.sk-item::before, #sk-container-id-3 div.sk-parallel-item::before {content: \"\";position: absolute;border-left: 1px solid gray;box-sizing: border-box;top: 0;bottom: 0;left: 50%;z-index: -1;}#sk-container-id-3 div.sk-parallel-item {display: flex;flex-direction: column;z-index: 1;position: relative;background-color: white;}#sk-container-id-3 div.sk-parallel-item:first-child::after {align-self: flex-end;width: 50%;}#sk-container-id-3 div.sk-parallel-item:last-child::after {align-self: flex-start;width: 50%;}#sk-container-id-3 div.sk-parallel-item:only-child::after {width: 0;}#sk-container-id-3 div.sk-dashed-wrapped {border: 1px dashed gray;margin: 0 0.4em 0.5em 0.4em;box-sizing: border-box;padding-bottom: 0.4em;background-color: white;}#sk-container-id-3 div.sk-label label {font-family: monospace;font-weight: bold;display: inline-block;line-height: 1.2em;}#sk-container-id-3 div.sk-label-container {text-align: center;}#sk-container-id-3 div.sk-container {/* jupyter's `normalize.less` sets `[hidden] { display: none; }` but bootstrap.min.css set `[hidden] { display: none !important; }` so we also need the `!important` here to be able to override the default hidden behavior on the sphinx rendered scikit-learn.org. See: https://github.com/scikit-learn/scikit-learn/issues/21755 */display: inline-block !important;position: relative;}#sk-container-id-3 div.sk-text-repr-fallback {display: none;}</style><div id=\"sk-container-id-3\" class=\"sk-top-container\"><div class=\"sk-text-repr-fallback\"><pre>RandomForestRegressor(n_estimators=300, random_state=0)</pre><b>In a Jupyter environment, please rerun this cell to show the HTML representation or trust the notebook. <br />On GitHub, the HTML representation is unable to render, please try loading this page with nbviewer.org.</b></div><div class=\"sk-container\" hidden><div class=\"sk-item\"><div class=\"sk-estimator sk-toggleable\"><input class=\"sk-toggleable__control sk-hidden--visually\" id=\"sk-estimator-id-3\" type=\"checkbox\" checked><label for=\"sk-estimator-id-3\" class=\"sk-toggleable__label sk-toggleable__label-arrow\">RandomForestRegressor</label><div class=\"sk-toggleable__content\"><pre>RandomForestRegressor(n_estimators=300, random_state=0)</pre></div></div></div></div></div>"
      ],
      "text/plain": [
       "RandomForestRegressor(n_estimators=300, random_state=0)"
      ]
     },
     "execution_count": 30,
     "metadata": {},
     "output_type": "execute_result"
    }
   ],
   "source": [
    "forest.fit(xTrain,yTrain)"
   ]
  },
  {
   "cell_type": "code",
   "execution_count": 54,
   "id": "e1a2d4df",
   "metadata": {},
   "outputs": [
    {
     "name": "stdout",
     "output_type": "stream",
     "text": [
      "RandomForestRegressor Model Traning Score: 98.34599397863396\n",
      "RandomForestRegressor Model Test Score: 94.94743130788548\n"
     ]
    }
   ],
   "source": [
    "print('RandomForestRegressor Model Traning Score:',forest.score(xTrain,yTrain)*100)\n",
    "print('RandomForestRegressor Model Test Score:',forest.score(xTest,yTest)*100)"
   ]
  },
  {
   "cell_type": "code",
   "execution_count": 64,
   "id": "c00a220b",
   "metadata": {},
   "outputs": [
    {
     "data": {
      "text/plain": [
       "<AxesSubplot:xlabel='brand'>"
      ]
     },
     "execution_count": 64,
     "metadata": {},
     "output_type": "execute_result"
    },
    {
     "data": {
      "image/png": "[encoded data removed]",
      "text/plain": [
       "<Figure size 1080x360 with 1 Axes>"
      ]
     },
     "metadata": {
      "needs_background": "light"
     },
     "output_type": "display_data"
    }
   ],
   "source": [
    "#random forest regressor\n",
    "fig,axs = plt.subplots(figsize=(15,5))\n",
    "forest_y_predict = forest.predict(xTest)\n",
    "sns.regplot(data=car_sales_data,x=xTest.iloc[:,0],y=forest_y_predict,color='m')"
   ]
  },
  {
   "cell_type": "code",
   "execution_count": 32,
   "id": "dbf4bcb1",
   "metadata": {},
   "outputs": [],
   "source": [
    "linear_y_predict = linear_model.predict(xTest)\n",
    "tree_y_predict = tree_model.predict(xTest)\n",
    "forest_y_predict = forest.predict(xTest)"
   ]
  },
  {
   "cell_type": "code",
   "execution_count": 73,
   "id": "caa95ba6",
   "metadata": {},
   "outputs": [
    {
     "data": {
      "text/plain": [
       "<AxesSubplot:xlabel='price', ylabel='Density'>"
      ]
     },
     "execution_count": 73,
     "metadata": {},
     "output_type": "execute_result"
    },
    {
     "data": {
      "image/png": "[encoded data removed]",
      "text/plain": [
       "<Figure size 1440x576 with 1 Axes>"
      ]
     },
     "metadata": {
      "needs_background": "light"
     },
     "output_type": "display_data"
    }
   ],
   "source": [
    "import warnings\n",
    "warnings.filterwarnings('ignore')\n",
    "fig,axs = plt.subplots(figsize=(20,8))\n",
    "sns.distplot(yTest,hist=False)\n",
    "sns.distplot(linear_y_predict,hist=False,color='r',)\n",
    "sns.distplot(tree_y_predict,hist=False,color='m',)\n",
    "sns.distplot(forest_y_predict,hist=False,color='g')"
   ]
  },
  {
   "attachments": {},
   "cell_type": "markdown",
   "id": "49f34e66",
   "metadata": {},
   "source": [
    "By using Linear regression,Decission tree regression and Randomforest Regression. Linear model is failed due to \n",
    "under fitting where Decission tree and RandomForest have good outcome with accuracy more than 90%. Random forest have\n",
    "98% traning accuracy and 94% test data accuracy compared to Decission tree "
   ]
  },
  {
   "cell_type": "code",
   "execution_count": null,
   "id": "c924710c",
   "metadata": {},
   "outputs": [],
   "source": []
  },
  {
   "cell_type": "code",
   "execution_count": null,
   "id": "aca91a56",
   "metadata": {},
   "outputs": [],
   "source": []
  },
  {
   "cell_type": "code",
   "execution_count": null,
   "id": "78919a5c",
   "metadata": {},
   "outputs": [],
   "source": []
  },
  {
   "cell_type": "code",
   "execution_count": null,
   "id": "5ec29da8",
   "metadata": {},
   "outputs": [],
   "source": []
  },
  {
   "cell_type": "code",
   "execution_count": null,
   "id": "824df892",
   "metadata": {},
   "outputs": [],
   "source": []
  },
  {
   "cell_type": "code",
   "execution_count": null,
   "id": "5c70edca",
   "metadata": {},
   "outputs": [],
   "source": []
  },
  {
   "cell_type": "code",
   "execution_count": null,
   "id": "50612816",
   "metadata": {},
   "outputs": [],
   "source": []
  },
  {
   "cell_type": "code",
   "execution_count": null,
   "id": "b77ebf44",
   "metadata": {},
   "outputs": [],
   "source": []
  },
  {
   "cell_type": "code",
   "execution_count": null,
   "id": "36a087cd",
   "metadata": {},
   "outputs": [],
   "source": []
  }
 ],
 "metadata": {
  "kernelspec": {
   "display_name": "Python 3 (ipykernel)",
   "language": "python",
   "name": "python3"
  },
  "language_info": {
   "codemirror_mode": {
    "name": "ipython",
    "version": 3
   },
   "file_extension": ".py",
   "mimetype": "text/x-python",
   "name": "python",
   "nbconvert_exporter": "python",
   "pygments_lexer": "ipython3",
   "version": "3.9.12"
  }
 },
 "nbformat": 4,
 "nbformat_minor": 5
}
